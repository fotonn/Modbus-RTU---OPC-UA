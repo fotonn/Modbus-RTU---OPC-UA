{
  "nbformat": 4,
  "nbformat_minor": 0,
  "metadata": {
    "colab": {
      "name": "kernel (5).ipynb",
      "version": "0.3.2",
      "provenance": [],
      "collapsed_sections": [],
      "include_colab_link": true
    },
    "kernelspec": {
      "display_name": "Python 3",
      "language": "python",
      "name": "python3"
    },
    "accelerator": "GPU"
  },
  "cells": [
    {
      "cell_type": "markdown",
      "metadata": {
        "id": "view-in-github",
        "colab_type": "text"
      },
      "source": [
        "<a href=\"https://colab.research.google.com/github/fotonn/Modbus-RTU---OPC-UA/blob/master/air_delay.ipynb\" target=\"_parent\"><img src=\"https://colab.research.google.com/assets/colab-badge.svg\" alt=\"Open In Colab\"/></a>"
      ]
    },
    {
      "metadata": {
        "_cell_guid": "79c7e3d0-c299-4dcb-8224-4455121ee9b0",
        "_uuid": "d629ff2d2480ee46fbb7e2d37f6b5fab8052498a",
        "id": "6unoF0guuMn1",
        "colab_type": "code",
        "trusted": true,
        "colab": {}
      },
      "cell_type": "code",
      "source": [
        "import os\n",
        "import math\n",
        "\n",
        "import pandas as pd\n",
        "import seaborn as sns\n",
        "import numpy as np\n",
        "\n",
        "\n",
        "from pathlib import Path\n",
        "from sklearn.preprocessing import StandardScaler\n",
        "from sklearn.ensemble import RandomForestRegressor\n",
        "from sklearn.linear_model import LinearRegression\n",
        "from matplotlib import pyplot as plt\n",
        "from sklearn.metrics import mean_squared_error\n",
        "from catboost import CatBoostRegressor\n",
        "import xgboost"
      ],
      "execution_count": 0,
      "outputs": []
    },
    {
      "metadata": {
        "_uuid": "f637f054afc045d40159647e56a0d1ddb8b414fd",
        "id": "OijFWRLjuMoG",
        "colab_type": "code",
        "trusted": true,
        "colab": {}
      },
      "cell_type": "code",
      "source": [
        "data_dir = Path('../input')\n",
        "\n",
        "train_df = pd.read_csv(data_dir / 'train.csv')\n",
        "test_df = pd.read_csv(data_dir / 'test.csv')\n",
        "sample_submission = pd.read_csv('../input/data_submit2 (1).csv')\n",
        "\n",
        "field_names = ['date', 'flight', 'port_out', 'port_in', 'number', 'schedule_time_in', 'fact_time_in',\n",
        "               'schedule_time_out', 'fact_time_out', 'delay_code', 'target']\n",
        "test_field_names = ['date', 'flight', 'port_out', 'port_in', 'number', 'schedule_time_in', 'schedule_time_out']\n",
        "\n",
        "\n",
        "\n",
        "train_df.columns = field_names\n",
        "test_df.columns = test_field_names\n",
        "\n",
        "\n",
        "train_df.fillna(0, inplace=True)\n",
        "\n",
        "\n",
        "train_df['date'] = pd.to_datetime(train_df['date'])\n",
        "train_df['schedule_time_in'] = pd.to_datetime(train_df['schedule_time_in'])\n",
        "train_df['schedule_time_out'] = pd.to_datetime(train_df['schedule_time_out'])\n",
        "train_df['fact_time_in'] = pd.to_datetime(train_df['fact_time_in'])\n",
        "train_df['fact_time_out'] = pd.to_datetime(train_df['fact_time_out'])\n",
        "\n",
        "test_df['date'] = pd.to_datetime(test_df['date'])\n",
        "test_df['schedule_time_in'] = pd.to_datetime(test_df['schedule_time_in'])\n",
        "test_df['schedule_time_out'] = pd.to_datetime(test_df['schedule_time_out'])\n",
        "\n",
        "features = []"
      ],
      "execution_count": 0,
      "outputs": []
    },
    {
      "metadata": {
        "id": "YT1pdVu9uMoQ",
        "colab_type": "text",
        "_uuid": "326f16381c4dbc589a2c44fad688ceeb26ea38aa"
      },
      "cell_type": "markdown",
      "source": [
        "Читаем данные по аэропортам (https://data.humdata.org/dataset/ourairports-rus)\n",
        "Нас интересует поле 'type' с размеров аэропорта.\n",
        "Делаем из них boolean fields"
      ]
    },
    {
      "metadata": {
        "id": "AoTLKGVouMoS",
        "colab_type": "code",
        "trusted": true,
        "_uuid": "4309498ff8c3a2ad5b6ffae8aa52ba8d2c5c4ee5",
        "colab": {}
      },
      "cell_type": "code",
      "source": [
        "ports = pd.read_csv(data_dir / 'ru-airports.csv')\n",
        "ports = ports.rename(columns = {'iata_code': 'port_out'})\n",
        "ports['large'] = (ports['type'] == 'large_airport').astype(float)\n",
        "ports['medium'] = (ports['type'] == 'medium_airport').astype(float)\n",
        "ports['small'] = (ports['type'] == 'small_airport').astype(float)\n",
        "ports['closed'] = (ports['type'] == 'closed').astype(float)"
      ],
      "execution_count": 0,
      "outputs": []
    },
    {
      "metadata": {
        "id": "puPEiXkTuMoX",
        "colab_type": "code",
        "trusted": true,
        "_uuid": "0de35847ffb0d72db734f7e30f109cecbf926c14",
        "colab": {}
      },
      "cell_type": "code",
      "source": [
        "ports['msk'] = (ports['iso_region'] == 'RU-MOS').astype(float)\n",
        "ports['spb'] = (ports['iso_region'] == 'RU-SPE').astype(float)"
      ],
      "execution_count": 0,
      "outputs": []
    },
    {
      "metadata": {
        "id": "BG-0WmW6uMoc",
        "colab_type": "code",
        "trusted": false,
        "_uuid": "dd182d906d7e8f694dd4d7437fceb20f6f0345c3",
        "colab": {}
      },
      "cell_type": "code",
      "source": [
        "ports.head()"
      ],
      "execution_count": 0,
      "outputs": []
    },
    {
      "metadata": {
        "id": "eP2Ea9JSuMoj",
        "colab_type": "text",
        "_uuid": "80c168ca37bcebf722e74b57e3ad91009b62685e"
      },
      "cell_type": "markdown",
      "source": [
        "Добавляем информацию о размере аэропорте отправления.\n",
        "\n",
        "Для этого делаем merge с датасетов по аэропортам."
      ]
    },
    {
      "metadata": {
        "id": "W5M4SsI1uMom",
        "colab_type": "code",
        "trusted": true,
        "_uuid": "006b9cf6a92b9734b16ff6beb3ee36bbb57569cd",
        "colab": {}
      },
      "cell_type": "code",
      "source": [
        "size_fields = ['large', 'medium', 'small', 'closed', 'msk', 'spb', 'port_out']\n",
        "\n",
        "train_df = pd.merge(train_df, ports[size_fields], on=['port_out'], how='left')\n",
        "test_df = pd.merge(test_df, ports[size_fields], on=['port_out'], how='left')\n",
        "\n",
        "size_fields.pop()\n",
        "features.extend(size_fields)"
      ],
      "execution_count": 0,
      "outputs": []
    },
    {
      "metadata": {
        "id": "34-YKo2quMoq",
        "colab_type": "text",
        "_uuid": "86f5ba0538c0f117a9503c68958512dfb82a08b5"
      },
      "cell_type": "markdown",
      "source": [
        "Аналогично добавляем информацию о размере аэропорте прибытия."
      ]
    },
    {
      "metadata": {
        "id": "57rodA3yuMot",
        "colab_type": "code",
        "trusted": true,
        "_uuid": "f16fad53b0f170cae22b2224291c99b54919c662",
        "colab": {}
      },
      "cell_type": "code",
      "source": [
        "ports = ports.rename(columns = {'large': 'large_in', 'medium': 'medium_in', 'small': 'small_in',\n",
        "                                'closed': 'closed_in', 'msk': 'msk_in', 'spb': 'spb_in', 'port_out': 'port_in'})\n",
        "size_fields = ['large_in', 'medium_in', 'small_in', 'closed_in', 'msk_in', 'spb_in', 'port_in']\n",
        "\n",
        "train_df = pd.merge(train_df, ports[size_fields], on=['port_in'], how='left')\n",
        "test_df = pd.merge(test_df, ports[size_fields], on=['port_in'], how='left')\n",
        "\n",
        "size_fields.pop()\n",
        "features.extend(size_fields)"
      ],
      "execution_count": 0,
      "outputs": []
    },
    {
      "metadata": {
        "id": "a3UZQrW-uMox",
        "colab_type": "text",
        "_uuid": "365599230eb233a12de714495e24c89065885259"
      },
      "cell_type": "markdown",
      "source": [
        "Фича \"выходной\""
      ]
    },
    {
      "metadata": {
        "id": "QlfN9mRtuMoz",
        "colab_type": "code",
        "trusted": true,
        "_uuid": "c50ce9aee4bbba2a7a46d500529e5dd9b661d580",
        "colab": {}
      },
      "cell_type": "code",
      "source": [
        "train_df['weekday'] = pd.to_datetime(train_df['date']).dt.dayofweek\n",
        "train_df[\"weekend\"] = (train_df[\"weekday\"] >= 5).astype(float)\n",
        "\n",
        "test_df['weekday'] = pd.to_datetime(test_df['date']).dt.dayofweek\n",
        "test_df[\"weekend\"] = (test_df[\"weekday\"] >= 5).astype(float)\n",
        "\n",
        "features.extend(['weekend'])"
      ],
      "execution_count": 0,
      "outputs": []
    },
    {
      "metadata": {
        "id": "4vMiP2wNuMo4",
        "colab_type": "text",
        "_uuid": "2c785144d23969adce85519f4ac3e799f6399f29"
      },
      "cell_type": "markdown",
      "source": [
        "Для трейн сета считаем задержку отправления и прибытия.\n",
        "\n",
        "При этом отсекаем все, что меньше 0 и больше 50"
      ]
    },
    {
      "metadata": {
        "id": "xGJKDKBVuMo5",
        "colab_type": "code",
        "trusted": true,
        "_uuid": "c9c9d96096c20f3e717a9e3809f2a59096c62889",
        "colab": {}
      },
      "cell_type": "code",
      "source": [
        "train_df['time_in_delay'] = (train_df['fact_time_in'] - train_df['schedule_time_in']).astype('timedelta64[m]')\n",
        "train_df.loc[train_df['time_in_delay'] < 5, 'time_in_delay'] = 0\n",
        "train_df.loc[train_df['time_in_delay'] > 60, 'time_in_delay'] = 60\n",
        "\n",
        "train_df['time_out_delay'] = (train_df['fact_time_out'] - train_df['schedule_time_out']).astype('timedelta64[m]')\n",
        "train_df.loc[train_df['time_out_delay'] < 5, 'time_out_delay'] = 0\n",
        "train_df.loc[train_df['time_out_delay'] > 60, 'time_out_delay'] = 60"
      ],
      "execution_count": 0,
      "outputs": []
    },
    {
      "metadata": {
        "id": "cND0lS6vuMo_",
        "colab_type": "text",
        "_uuid": "c84349520c892827c832553dcdb81127747d7190"
      },
      "cell_type": "markdown",
      "source": [
        "Функция для генерации фич с группировкой:\n",
        "1. Группируем по полям из списка groupby\n",
        "2. Агреггируем по полу agg\n",
        "3. Мерджим новые фичи в трэйн и тест датасет с префиксом name"
      ]
    },
    {
      "metadata": {
        "id": "jzTNCilEuMpB",
        "colab_type": "code",
        "trusted": true,
        "_uuid": "8f9e4d8ed1c819dcf7519f916c490bde634d643a",
        "colab": {}
      },
      "cell_type": "code",
      "source": [
        "def group_features(groupby, agg, name):\n",
        "    global train_df, test_df\n",
        "    df = train_df.groupby(groupby)[agg].aggregate(['sum', 'count', np.count_nonzero]).fillna(0)\n",
        "    fields = ['{}_mean'.format(name), '{}_mean2'.format(name)]\n",
        "\n",
        "    df['{}_mean'.format(name)] = df['sum'] / df['count']\n",
        "    df['{}_mean2'.format(name)] = df['sum'] / df['count_nonzero']\n",
        "    df = df[fields]\n",
        "    \n",
        "    train_df = pd.merge(train_df, df, on=groupby, how='left')\n",
        "    test_df = pd.merge(test_df, df, on=groupby, how='left')\n",
        "\n",
        "    return fields"
      ],
      "execution_count": 0,
      "outputs": []
    },
    {
      "metadata": {
        "id": "mLCSeVysuMpF",
        "colab_type": "text",
        "_uuid": "9aee2d7c486f4a64965dbd018e16feee513a2405"
      },
      "cell_type": "markdown",
      "source": [
        "Далее идет вызов функции для добавления фич:\n",
        "1. по номеру рейса\n",
        "2. по аэропорту отбытия\n",
        "3. по аэропорту прибытия\n",
        "4. по аэропорту отбытия и прибытия\n",
        "5. по номеру самолета\n",
        "\n",
        "Для каждого считается два вида среднего.\n",
        "\n",
        "По всем рейсам и по рейсам с ненулевой задержкой."
      ]
    },
    {
      "metadata": {
        "id": "ZuBZdjaKuMpH",
        "colab_type": "code",
        "trusted": true,
        "_uuid": "fda2a1e0b183b79add63af80bf005d0c1fa18bad",
        "colab": {}
      },
      "cell_type": "code",
      "source": [
        "features.extend(group_features('flight', 'time_in_delay', 'flight'))\n",
        "features.extend(group_features('flight', 'time_out_delay', 'flight2'))"
      ],
      "execution_count": 0,
      "outputs": []
    },
    {
      "metadata": {
        "id": "439Jj898uMpO",
        "colab_type": "code",
        "trusted": true,
        "_uuid": "cc326dec6962466d4d366b027ab87da65ffd106a",
        "colab": {}
      },
      "cell_type": "code",
      "source": [
        "features.extend(group_features(['port_out'], 'time_in_delay', 'port_out'))\n",
        "features.extend(group_features(['port_out'], 'time_out_delay', 'port_out2'))"
      ],
      "execution_count": 0,
      "outputs": []
    },
    {
      "metadata": {
        "id": "InD6uLsGuMpT",
        "colab_type": "code",
        "trusted": true,
        "_uuid": "66b00b568eebc923edee691cb46f43af12d570b5",
        "colab": {}
      },
      "cell_type": "code",
      "source": [
        "features.extend(group_features(['port_in'], 'time_in_delay', 'port_in'))\n",
        "features.extend(group_features(['port_in'], 'time_out_delay', 'port_in2'))"
      ],
      "execution_count": 0,
      "outputs": []
    },
    {
      "metadata": {
        "id": "E3hAQqy2uMpY",
        "colab_type": "code",
        "trusted": true,
        "_uuid": "1f8a94e57c0a13e4fd31f4ba94a153ccbade1368",
        "colab": {}
      },
      "cell_type": "code",
      "source": [
        "features.extend(group_features(['port_out', 'port_in'], 'time_in_delay', 'port'))\n",
        "features.extend(group_features(['port_out', 'port_in'], 'time_out_delay', 'port2'))"
      ],
      "execution_count": 0,
      "outputs": []
    },
    {
      "metadata": {
        "id": "ynkBGMDOuMpd",
        "colab_type": "code",
        "trusted": true,
        "_uuid": "2ff05dd11c7e9df33e62c6e091ebcbf4dc207f14",
        "colab": {}
      },
      "cell_type": "code",
      "source": [
        "features.extend(group_features('number', 'time_in_delay', 'number'))\n",
        "features.extend(group_features('number', 'time_out_delay', 'number2'))"
      ],
      "execution_count": 0,
      "outputs": []
    },
    {
      "metadata": {
        "id": "sb3MW5fxuMpn",
        "colab_type": "code",
        "trusted": false,
        "_uuid": "96b9309585fc6c4069d905bfb71858a03e33e56a",
        "colab": {}
      },
      "cell_type": "code",
      "source": [
        "train_df.head()"
      ],
      "execution_count": 0,
      "outputs": []
    },
    {
      "metadata": {
        "id": "2Tv5iw66uMpw",
        "colab_type": "code",
        "trusted": false,
        "_uuid": "0cbb221562fb0711a01708abd2dfb881e689c973",
        "colab": {}
      },
      "cell_type": "code",
      "source": [
        "test_df.head()"
      ],
      "execution_count": 0,
      "outputs": []
    },
    {
      "metadata": {
        "_uuid": "b91791d17c7f9a2bb7a1387be19ebecde08295bf",
        "id": "iTTE4rCTuMp0",
        "colab_type": "code",
        "trusted": true,
        "colab": {}
      },
      "cell_type": "code",
      "source": [
        "train_df.fillna(0, inplace=True)\n",
        "test_df.fillna(0, inplace=True)\n",
        "\n",
        "X_train = train_df[features]\n",
        "y_train = train_df['target']\n",
        "X_test = test_df[features]"
      ],
      "execution_count": 0,
      "outputs": []
    },
    {
      "metadata": {
        "_uuid": "3a72f0862303a5ac517282550e0c95e1eba2281f",
        "scrolled": true,
        "id": "_bD-aCMSuMp4",
        "colab_type": "code",
        "trusted": true,
        "colab": {}
      },
      "cell_type": "code",
      "source": [
        "scaler = StandardScaler(with_std=False)\n",
        "X_train = scaler.fit_transform(X_train)\n",
        "X_test = scaler.transform(X_test)"
      ],
      "execution_count": 0,
      "outputs": []
    },
    {
      "metadata": {
        "id": "ATY3RZdcuMp8",
        "colab_type": "code",
        "trusted": false,
        "_uuid": "659c118a43db1e433166b36d8345e270a91b2dfa",
        "colab": {}
      },
      "cell_type": "code",
      "source": [
        "features"
      ],
      "execution_count": 0,
      "outputs": []
    },
    {
      "metadata": {
        "_uuid": "fbed1ae68862fbb73046ffa859e4db84898e05f5",
        "id": "BHHn-uV1uMqB",
        "colab_type": "code",
        "trusted": true,
        "colab": {}
      },
      "cell_type": "code",
      "source": [
        "%%time\n",
        "regressor = RandomForestRegressor(n_estimators=50, random_state=42, n_jobs=-1,\n",
        "                                  max_depth=7)\n",
        "regressor.fit(X_train, y_train)"
      ],
      "execution_count": 0,
      "outputs": []
    },
    {
      "metadata": {
        "trusted": true,
        "_uuid": "0cee3cdbb64c1ae6d298f269f9b6c3e6d05f3d52",
        "id": "L5tTF-oprMx7",
        "colab_type": "code",
        "colab": {}
      },
      "cell_type": "code",
      "source": [
        "mean_squared_error(regressor.predict(X_train), y_train)"
      ],
      "execution_count": 0,
      "outputs": []
    },
    {
      "metadata": {
        "_uuid": "b77b411e68c848024e87e23fd8b4d29df1e26537",
        "id": "YKUbypA8uMqG",
        "colab_type": "code",
        "trusted": false,
        "colab": {}
      },
      "cell_type": "code",
      "source": [
        "y_test = regressor.predict(X_test)"
      ],
      "execution_count": 0,
      "outputs": []
    },
    {
      "metadata": {
        "trusted": true,
        "_uuid": "01173bcaf6b76059a3c64c5ed9901106e05323ab",
        "id": "wt236qSQrMyD",
        "colab_type": "code",
        "colab": {}
      },
      "cell_type": "code",
      "source": [
        "xgb_model = xgboost.XGBRegressor(colsample_bytree=0.4,\n",
        "                 gamma=0,                 \n",
        "                 learning_rate=0.07,\n",
        "                 max_depth=5,\n",
        "                 min_child_weight=1.5,\n",
        "                 n_estimators=100,                                                                    \n",
        "                 reg_alpha=0.75,\n",
        "                 reg_lambda=0.45,\n",
        "                 subsample=0.6,\n",
        "                 seed=42)\n",
        "xgb_model.fit(X_train,y_train)\n",
        "y_xgb = xgb_model.predict(X_test)"
      ],
      "execution_count": 0,
      "outputs": []
    },
    {
      "metadata": {
        "trusted": true,
        "_uuid": "4aef6821e1c7338266ed6957008587684c84670b",
        "id": "lBvQUZVqrMyH",
        "colab_type": "code",
        "colab": {}
      },
      "cell_type": "code",
      "source": [
        "mean_squared_error(xgb_model.predict(X_train), y_train)"
      ],
      "execution_count": 0,
      "outputs": []
    },
    {
      "metadata": {
        "trusted": true,
        "_uuid": "e607bf6610f9911756e3db3dce0edd2e38f9c28c",
        "_kg_hide-output": true,
        "id": "YkI1g67erMyL",
        "colab_type": "code",
        "colab": {}
      },
      "cell_type": "code",
      "source": [
        "sample_submission['Задержка отправления в минутах'] = y_xgb\n",
        "sample_submission.to_csv('xgboostmsk.csv', index=False)"
      ],
      "execution_count": 0,
      "outputs": []
    },
    {
      "metadata": {
        "trusted": true,
        "_uuid": "84126623fdf5d71e4f927e4e971337030a73b947",
        "id": "O_5zIzcsrMyP",
        "colab_type": "code",
        "colab": {}
      },
      "cell_type": "code",
      "source": [
        "seed = 7\n",
        "test_size = 0.33\n",
        "#y = df['y']\n",
        "#X_train, X_test, y_train, y_test = train_test_split(boostd, y, test_size=test_size, random_state=seed)\n",
        "# Initialize CatBoostRegressor\n",
        "model = CatBoostRegressor(iterations=10000, learning_rate=0.1, depth=5,loss_function='RMSE')\n",
        "# Fit model\n",
        "model.fit(X_train,y_train)\n",
        "# Get predictions\n",
        "y_cat = model.predict(X_test)\n"
      ],
      "execution_count": 0,
      "outputs": []
    },
    {
      "metadata": {
        "trusted": true,
        "_uuid": "b0e923494846b1c467247954fd9ec46b75ed9603",
        "_kg_hide-output": true,
        "id": "YBezc0carMyS",
        "colab_type": "code",
        "colab": {}
      },
      "cell_type": "code",
      "source": [
        "sample_submission['Задержка отправления в минутах'] = y_cat\n",
        "sample_submission.to_csv('cat10k.csv', index=False)"
      ],
      "execution_count": 0,
      "outputs": []
    },
    {
      "metadata": {
        "id": "svcDxcRMuMqJ",
        "colab_type": "code",
        "trusted": true,
        "_uuid": "2513a06cdea97b4d172046043b8c6f7fb2e0910d",
        "colab": {}
      },
      "cell_type": "code",
      "source": [
        "mean_squared_error(model.predict(X_train), y_train)"
      ],
      "execution_count": 0,
      "outputs": []
    },
    {
      "metadata": {
        "id": "2wHfpKovuMqO",
        "colab_type": "text",
        "_uuid": "6937c45e4d09a68f8a277890463e4f7f1e95c6fd"
      },
      "cell_type": "markdown",
      "source": [
        "mean_squared_error:\n",
        "\n",
        "1996.6674058887513,\n",
        "\n",
        "1435.0087880146991, 1434.3070641444779, 1433.945474164081"
      ]
    },
    {
      "metadata": {
        "_uuid": "2d87cdeeaa1ac063336ffdfaa7589368f6dfbd51",
        "id": "jwEpHKpbuMqQ",
        "colab_type": "code",
        "trusted": true,
        "colab": {}
      },
      "cell_type": "code",
      "source": [
        ""
      ],
      "execution_count": 0,
      "outputs": []
    },
    {
      "metadata": {
        "_uuid": "679c066387d304f123c0c510a3b8851f4943f4ec",
        "id": "-boHuEBpuMqU",
        "colab_type": "code",
        "trusted": true,
        "colab": {}
      },
      "cell_type": "code",
      "source": [
        ""
      ],
      "execution_count": 0,
      "outputs": []
    },
    {
      "metadata": {
        "trusted": true,
        "_uuid": "e99dc7ce56e8fcd0e41bade96ed048695523531f",
        "id": "qCLYMkLHrMyv",
        "colab_type": "code",
        "colab": {}
      },
      "cell_type": "code",
      "source": [
        ""
      ],
      "execution_count": 0,
      "outputs": []
    },
    {
      "metadata": {
        "trusted": true,
        "_uuid": "90b92b48ed2fb1f82ff198bd996d858f8e2578c7",
        "id": "Fyt-8oEgrMyz",
        "colab_type": "code",
        "colab": {}
      },
      "cell_type": "code",
      "source": [
        ""
      ],
      "execution_count": 0,
      "outputs": []
    },
    {
      "metadata": {
        "id": "dNTSFluTuMqe",
        "colab_type": "code",
        "trusted": true,
        "_uuid": "3bf313062eb97597bc75a46b55778ee47a3bc2db",
        "colab": {}
      },
      "cell_type": "code",
      "source": [
        ""
      ],
      "execution_count": 0,
      "outputs": []
    },
    {
      "metadata": {
        "trusted": true,
        "_uuid": "2c2429c32fc3b7733ef0a690df65a12e7a6b1a9a",
        "id": "eUfCxOJyrMy8",
        "colab_type": "code",
        "colab": {}
      },
      "cell_type": "code",
      "source": [
        ""
      ],
      "execution_count": 0,
      "outputs": []
    }
  ]
}